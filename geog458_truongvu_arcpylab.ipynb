{
 "metadata": {
  "name": "geog458_truongvu_arcpylab.ipynb"
 },
 "nbformat": 3,
 "nbformat_minor": 0,
 "worksheets": [
  {
   "cells": [
    {
     "cell_type": "markdown",
     "metadata": {},
     "source": [
      "TRUONG VU\n",
      "LAB 1: First ArcPy lab."
     ]
    },
    {
     "cell_type": "code",
     "collapsed": false,
     "input": [
      "import sys\n",
      "sys.path.append('C:\\\\Program Files (x86)\\\\ArcGIS\\\\Desktop10.2\\\\bin')\n",
      "sys.path.append('C:\\\\Program Files (x86)\\\\ArcGIS\\\\Desktop10.2\\\\arcpy')\n",
      "sys.path.append('C:\\\\Program Files(x86)\\\\ArcGIS\\\\Desktop10.2\\\\ArcToolbox\\\\Scripts')\n",
      "import arcpy"
     ],
     "language": "python",
     "metadata": {},
     "outputs": [],
     "prompt_number": 2
    },
    {
     "cell_type": "markdown",
     "metadata": {},
     "source": [
      "1) For each county in Washington, create a GeoJSON file whose filename is the county name and whose contents are the polygons for the block groups within that county. This means that you will end up with as many GeoJSON files as there are counties in WA. Each such file should be named after a county and contain only the block groups from that county."
     ]
    },
    {
     "cell_type": "markdown",
     "metadata": {},
     "source": [
      "I made a forloop creating the county layers. It would've been easier to use ArcTool Box then coding. In conclusion, some process are easier in arcpython then arcgis."
     ]
    },
    {
     "cell_type": "code",
     "collapsed": false,
     "input": [
      "arcpy.env.workspace=\"C:\\\\Users\\\\tvx\\\\Downloads\\\\saep_bg10\\\\\""
     ],
     "language": "python",
     "metadata": {},
     "outputs": [],
     "prompt_number": 10
    },
    {
     "cell_type": "code",
     "collapsed": false,
     "input": [
      "\n",
      "#join the two field by CountyFIP\n",
      "arcpy.JoinField_management(\"saep_bg10.shp\", \"COUNTYFP10\", \"WashingtonFIPS.dbf\", \"FIPSCounty\")\n",
      "cursor = arcpy.da.SearchCursor(\"saep_bg10.shp\", \"CountyName\")\n",
      "my_list = []\n",
      "for row in cursor: \n",
      "     if row[0] not in my_list:\n",
      "         my_list.append(row[0])\n",
      "#This print out the list of counties\n",
      "print my_list                    \n",
      "#I delete the row and cursor\n",
      "del row                          \n",
      "del cursor                       "
     ],
     "language": "python",
     "metadata": {},
     "outputs": [
      {
       "output_type": "stream",
       "stream": "stdout",
       "text": [
        "[u'Adams', u'Asotin', u'Benton', u'Chelan', u'Clallam', u'Clark', u'Columbia', u'Cowlitz', u'Douglas', u'Ferry', u'Franklin', u'Garfield', u'Grant', u'Grays Harbor', u'Island', u'Jefferson', u'King', u'Kitsap', u'Kittitas', u'Klickitat', u'Lewis', u'Lincoln', u'Mason', u'Okanogan', u'Pacific', u'Pend Oreille', u'Pierce', u'San Juan', u'Skagit', u'Skamania', u'Snohomish', u'Spokane', u'Stevens', u'Thurston', u'Wahkiakum', u'Walla Walla', u'Whatcom', u'Whitman', u'Yakima']\n"
       ]
      }
     ],
     "prompt_number": 3
    },
    {
     "cell_type": "code",
     "collapsed": false,
     "input": [
      "#using the list and create shapefile representing each counties.\n",
      "arcpy.env.overwriteOutput = True                                         \n",
      "arcpy.MakeFeatureLayer_management(\"saep_bg10.dbf\", \"ShapefilesOfCounties\")  \n",
      "for county in my_list:\n",
      "    arcpy.SelectLayerByAttribute_management(\"ShapefilesOfCounties\", \"NEW_SELECTION\", \" \\\"CountyName\\\" = '\"+county+\"'\")\n",
      "    arcpy.CopyFeatures_management( \"ShapefilesOfCounties\", county+\".shp\")\n",
      "#end the process\n",
      "arcpy.env.overwriteOutput = False   "
     ],
     "language": "python",
     "metadata": {},
     "outputs": [],
     "prompt_number": 5
    },
    {
     "cell_type": "markdown",
     "metadata": {},
     "source": [
      "Used canvas to get the code for geojson. I did it at home, but couldn't connect to the Sherman Lab so came to Lab to finish this part. This was the last step."
     ]
    },
    {
     "cell_type": "code",
     "collapsed": false,
     "input": [
      "#import geojson to computer\n",
      "from subprocess import call\n",
      "import os\n",
      "\n",
      "os.environ[\"GDAL_DATA\"] = \"C:\\\\OSGeo4W\\\\share\\\\gdal\"\n",
      "os.environ[\"GDAL_DRIVER_PATH\"] = \"C:\\\\OSGeo4W\\\\bin\\\\gdalplugins\"\n",
      "os.environ[\"PROJ_LIB\"] = \"C:\\\\OSGeo4W\\\\share\\\\proj\"\n",
      "os.environ[\"PATH\"] = \"C:\\\\OSGeo4W\\\\bin;\"+os.environ[\"PATH\"]+\";C:\\\\OSGeo4W\\\\apps\\\\msys\\\\bin;C:\\\\OSGeo4W\\\\apps\\\\Python27\\\\Scripts\""
     ],
     "language": "python",
     "metadata": {},
     "outputs": [],
     "prompt_number": 6
    },
    {
     "cell_type": "code",
     "collapsed": false,
     "input": [
      "# The following code looks at what is stored in my_list and calls the program directly.\n",
      "\n",
      "for geojson in my_list:\n",
      "    #I added the geojson extension as well as .shp to the output files\n",
      "    geo = \"C:\\\\Users\\\\tvx\\\\Downloads\\\\saep_bg10\\\\\" + geojson + \".geojson\" \n",
      "    json = \"C:\\\\Users\\\\tvx\\\\Downloads\\\\saep_bg10\\\\\" + geojson + \".shp\"  \n",
      "    call(['C:\\\\OSGeo4W\\\\bin\\\\ogr2ogr',\n",
      "      '-f','GeoJSON','-t_srs','WGS84',                                                                              \n",
      "      '-s_srs','EPSG:2927', geo, json])                 \n",
      "    "
     ],
     "language": "python",
     "metadata": {},
     "outputs": [],
     "prompt_number": 11
    },
    {
     "cell_type": "markdown",
     "metadata": {},
     "source": [
      "Print out a ranked list, in descending order, of the ten largest total populations in 2013 of counties in Washington, according to this dataset.\n",
      "\n",
      "I created a frequency table. It's easier since it summed the population by county. Then sort the frequency table by population in descending order. \n",
      "I then print pop2013 with the constraint setting to only from rowid 1 thru 10. This was because we want the top 10 results which is the first top 10 since they are rank by descending order by most populated."
     ]
    },
    {
     "cell_type": "code",
     "collapsed": false,
     "input": [
      "#Create Frequency analysist to sum POP2013\n",
      "arcpy.env.workspace=\"C:\\\\Users\\\\tvx\\\\Downloads\\\\saep_bg10\"\n",
      "arcpy.Frequency_analysis(\"saep_bg10.shp\", \"C:\\\\Users\\\\tvx\\\\Downloads\\\\saep_bg10\\\\POPTABLE\", [\"CountyName\"], [\"POP2013\"])\n",
      "#Sort POP2013 in descending order\n",
      "arcpy.Sort_management(\"POPTABLE\", \"sort_pop3\", [[\"POP2013\", \"DESCENDING\"]])\n",
      "#write a constraint to print top 10\n",
      "with arcpy.da.SearchCursor(\"sort_pop3\", [\"POP2013\"],\"\"\" Rowid_1 < 11\"\"\") as cursor:\n",
      "    for row in cursor:\n",
      "        print row[0]"
     ],
     "language": "python",
     "metadata": {},
     "outputs": [
      {
       "output_type": "stream",
       "stream": "stdout",
       "text": [
        "1981900.0\n",
        "814500.0\n",
        "730500.0\n",
        "480000.0\n",
        "435500.0\n",
        "260100.0\n",
        "254000.0\n",
        "247250.0\n",
        "205800.0\n",
        "183400.0\n"
       ]
      }
     ],
     "prompt_number": 21
    },
    {
     "cell_type": "code",
     "collapsed": false,
     "input": [],
     "language": "python",
     "metadata": {},
     "outputs": []
    }
   ],
   "metadata": {}
  }
 ]
}