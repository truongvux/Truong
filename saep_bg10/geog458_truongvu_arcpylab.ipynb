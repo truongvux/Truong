{
 "metadata": {
  "name": "geog458_truongvu_arcpylab.ipynb"
 },
 "nbformat": 3,
 "nbformat_minor": 0,
 "worksheets": [
  {
   "cells": [
    {
     "cell_type": "markdown",
     "metadata": {},
     "source": [
      "TRUONG VU\n",
      "LAB 1: First ArcPy lab."
     ]
    },
    {
     "cell_type": "code",
     "collapsed": false,
     "input": [
      "sys.path.append('C:\\\\Program Files (x86)\\\\ArcGIS\\\\Desktop10.2\\\\bin')\n",
      "sys.path.append('C:\\\\Program Files (x86)\\\\ArcGIS\\\\Desktop10.2\\\\arcpy')\n",
      "sys.path.append('C:\\\\Program Files(x86)\\\\ArcGIS\\\\Desktop10.2\\\\ArcToolbox\\\\Scripts')"
     ],
     "language": "python",
     "metadata": {},
     "outputs": [],
     "prompt_number": 1
    },
    {
     "cell_type": "markdown",
     "metadata": {},
     "source": [
      "1) For each county in Washington, create a GeoJSON file whose filename is the county name and whose contents are the polygons for the block groups within that county. This means that you will end up with as many GeoJSON files as there are counties in WA. Each such file should be named after a county and contain only the block groups from that county."
     ]
    },
    {
     "cell_type": "markdown",
     "metadata": {},
     "source": [
      "I try to make .shp file for each county including the whole block group. I Couldn't figure out how to do forloop, so I did the select tool to create output in for each individual file. Honestly, I tried and couldn't figure it out with forloop. It would've been easier to use ArcTool Box then coding. "
     ]
    },
    {
     "cell_type": "code",
     "collapsed": false,
     "input": [
      "import arcpy\n",
      "#Create workspace\n",
      "arcpy.env.workspace=\"C:\\\\Users\\\\tvx\\\\Downloads\\\\saep_bg10\"\n",
      "#join the two field by CountyFIP\n",
      "arcpy.JoinField_management(\"saep_bg10.shp\", \"COUNTYFP10\", \"WashingtonFIPS.dbf\", \"FIPSCounty\")\n",
      "#Made a feature layer to do select analysis.\n",
      "#didn't work using .shp\n",
      "#Manually made .shp since couldn't figure out how to use loop on string\n",
      "arcpy.MakeFeatureLayer_management(\"saep_bg10.shp\", \"my_shp_layer.lyr\")\n",
      "arcpy.Select_analysis(\"my_shp_layer.lyr\", \"C:\\\\Users\\\\tvx\\\\Downloads\\\\saep_bg10\\\\Adams.shp\", '\"CountyName\" = \\'Adams\\'')\n",
      "arcpy.Select_analysis(\"my_shp_layer.lyr\", \"C:\\\\Users\\\\tvx\\\\Downloads\\\\saep_bg10\\\\Asotin.shp\", '\"CountyName\" = \\'Asotin\\'')\n",
      "arcpy.Select_analysis(\"my_shp_layer.lyr\", \"C:\\\\Users\\\\tvx\\\\Downloads\\\\saep_bg10\\\\Benton.shp\", '\"CountyName\" = \\'Benton\\'')\n",
      "arcpy.Select_analysis(\"my_shp_layer.lyr\", \"C:\\\\Users\\\\tvx\\\\Downloads\\\\saep_bg10\\\\Chelan.shp\", '\"CountyName\" = \\'Chelan\\'')\n",
      "arcpy.Select_analysis(\"my_shp_layer.lyr\", \"C:\\\\Users\\\\tvx\\\\Downloads\\\\saep_bg10\\\\Clark.shp\", '\"CountyName\" = \\'Clallam\\'')\n",
      "arcpy.Select_analysis(\"my_shp_layer.lyr\", \"C:\\\\Users\\\\tvx\\\\Downloads\\\\saep_bg10\\\\Columbia.shp\", '\"CountyName\" = \\'Columbia\\'')\n",
      "arcpy.Select_analysis(\"my_shp_layer.lyr\", \"C:\\\\Users\\\\tvx\\\\Downloads\\\\saep_bg10\\\\Cowlitz.shp\", '\"CountyName\" = \\'Cowlitz\\'')\n",
      "arcpy.Select_analysis(\"my_shp_layer.lyr\", \"C:\\\\Users\\\\tvx\\\\Downloads\\\\saep_bg10\\\\Douglas.shp\", '\"CountyName\" = \\'Douglas\\'')\n",
      "arcpy.Select_analysis(\"my_shp_layer.lyr\", \"C:\\\\Users\\\\tvx\\\\Downloads\\\\saep_bg10\\\\Ferry.shp\", '\"CountyName\" = \\'Adams\\'')\n",
      "arcpy.Select_analysis(\"my_shp_layer.lyr\", \"C:\\\\Users\\\\tvx\\\\Downloads\\\\saep_bg10\\\\Franklin.shp\", '\"CountyName\" = \\'Franklin\\'')\n",
      "arcpy.Select_analysis(\"my_shp_layer.lyr\", \"C:\\\\Users\\\\tvx\\\\Downloads\\\\saep_bg10\\\\Garfield.shp\", '\"CountyName\" = \\'Garfield\\'')\n",
      "arcpy.Select_analysis(\"my_shp_layer.lyr\", \"C:\\\\Users\\\\tvx\\\\Downloads\\\\saep_bg10\\\\Grant.shp\", '\"CountyName\" = \\'Grays Harbor\\'')\n",
      "arcpy.Select_analysis(\"my_shp_layer.lyr\", \"C:\\\\Users\\\\tvx\\\\Downloads\\\\saep_bg10\\\\Island.shp\", '\"CountyName\" = \\'Island\\'')\n",
      "arcpy.Select_analysis(\"my_shp_layer.lyr\", \"C:\\\\Users\\\\tvx\\\\Downloads\\\\saep_bg10\\\\Jefferson.shp\", '\"CountyName\" = \\'Jefferson\\'')\n",
      "arcpy.Select_analysis(\"my_shp_layer.lyr\", \"C:\\\\Users\\\\tvx\\\\Downloads\\\\saep_bg10\\\\King.shp\", '\"CountyName\" = \\'King\\'')\n",
      "arcpy.Select_analysis(\"my_shp_layer.lyr\", \"C:\\\\Users\\\\tvx\\\\Downloads\\\\saep_bg10\\\\Kitsap.shp\", '\"CountyName\" = \\'Kitsap\\'')\n",
      "arcpy.Select_analysis(\"my_shp_layer.lyr\", \"C:\\\\Users\\\\tvx\\\\Downloads\\\\saep_bg10\\\\Kittitas.shp\", '\"CountyName\" = \\'Kittitas\\'')\n",
      "arcpy.Select_analysis(\"my_shp_layer.lyr\", \"C:\\\\Users\\\\tvx\\\\Downloads\\\\saep_bg10\\\\Klickitat.shp\", '\"CountyName\" = \\'Klickitat\\'')\n",
      "arcpy.Select_analysis(\"my_shp_layer.lyr\", \"C:\\\\Users\\\\tvx\\\\Downloads\\\\saep_bg10\\\\Lewis.shp\", '\"CountyName\" = \\'Lewis\\'')\n",
      "arcpy.Select_analysis(\"my_shp_layer.lyr\", \"C:\\\\Users\\\\tvx\\\\Downloads\\\\saep_bg10\\\\Lincoln.shp\", '\"CountyName\" = \\'Lincoln\\'')\n",
      "arcpy.Select_analysis(\"my_shp_layer.lyr\", \"C:\\\\Users\\\\tvx\\\\Downloads\\\\saep_bg10\\\\Mason.shp\", '\"CountyName\" = \\'Mason\\'')\n",
      "arcpy.Select_analysis(\"my_shp_layer.lyr\", \"C:\\\\Users\\\\tvx\\\\Downloads\\\\saep_bg10\\\\Okanogan.shp\", '\"CountyName\" = \\'Okanogan\\'')\n",
      "arcpy.Select_analysis(\"my_shp_layer.lyr\", \"C:\\\\Users\\\\tvx\\\\Downloads\\\\saep_bg10\\\\Pacific.shp\", '\"CountyName\" = \\'Pacific\\'')\n",
      "arcpy.Select_analysis(\"my_shp_layer.lyr\", \"C:\\\\Users\\\\tvx\\\\Downloads\\\\saep_bg10\\\\Pend Oreille.shp\", '\"CountyName\" = \\'Pend Orielle\\'')\n",
      "arcpy.Select_analysis(\"my_shp_layer.lyr\", \"C:\\\\Users\\\\tvx\\\\Downloads\\\\saep_bg10\\\\Pierce.shp\", '\"CountyName\" = \\'Pierce\\'')\n",
      "arcpy.Select_analysis(\"my_shp_layer.lyr\", \"C:\\\\Users\\\\tvx\\\\Downloads\\\\saep_bg10\\\\San Juan.shp\", '\"CountyName\" = \\'San Juan\\'')\n",
      "arcpy.Select_analysis(\"my_shp_layer.lyr\", \"C:\\\\Users\\\\tvx\\\\Downloads\\\\saep_bg10\\\\Skagit.shp\", '\"CountyName\" = \\'Skagit\\'')\n",
      "arcpy.Select_analysis(\"my_shp_layer.lyr\", \"C:\\\\Users\\\\tvx\\\\Downloads\\\\saep_bg10\\\\Skamania.shp\", '\"CountyName\" = \\'Skamania\\'')\n",
      "arcpy.Select_analysis(\"my_shp_layer.lyr\", \"C:\\\\Users\\\\tvx\\\\Downloads\\\\saep_bg10\\\\Snohomish.shp\", '\"CountyName\" = \\'Snohomish\\'')\n",
      "arcpy.Select_analysis(\"my_shp_layer.lyr\", \"C:\\\\Users\\\\tvx\\\\Downloads\\\\saep_bg10\\\\Spokane.shp\", '\"CountyName\" = \\'Spokane\\'')\n",
      "arcpy.Select_analysis(\"my_shp_layer.lyr\", \"C:\\\\Users\\\\tvx\\\\Downloads\\\\saep_bg10\\\\Stevens.shp\", '\"CountyName\" = \\'Stevens\\'')\n",
      "arcpy.Select_analysis(\"my_shp_layer.lyr\", \"C:\\\\Users\\\\tvx\\\\Downloads\\\\saep_bg10\\\\Thurston.shp\", '\"CountyName\" = \\'Thurston\\'')\n",
      "arcpy.Select_analysis(\"my_shp_layer.lyr\", \"C:\\\\Users\\\\tvx\\\\Downloads\\\\saep_bg10\\\\Wahkiakum.shp\", '\"CountyName\" = \\'Wahkiakum\\'')\n",
      "arcpy.Select_analysis(\"my_shp_layer.lyr\", \"C:\\\\Users\\\\tvx\\\\Downloads\\\\saep_bg10\\\\Walla Walla.shp\", '\"CountyName\" = \\'Walla Walla\\'')\n",
      "arcpy.Select_analysis(\"my_shp_layer.lyr\", \"C:\\\\Users\\\\tvx\\\\Downloads\\\\saep_bg10\\\\Whatcom.shp\", '\"CountyName\" = \\'Whatcom\\'')\n",
      "arcpy.Select_analysis(\"my_shp_layer.lyr\", \"C:\\\\Users\\\\tvx\\\\Downloads\\\\saep_bg10\\\\Whitman.shp\", '\"CountyName\" = \\'Whitman\\'')\n",
      "arcpy.Select_analysis(\"my_shp_layer.lyr\", \"C:\\\\Users\\\\tvx\\\\Downloads\\\\saep_bg10\\\\Yakima.shp\", '\"CountyName\" = \\'Yakima\\'')\n",
      "#success"
     ],
     "language": "python",
     "metadata": {},
     "outputs": [
      {
       "metadata": {},
       "output_type": "pyout",
       "prompt_number": 3,
       "text": [
        "<Result 'C:\\\\Users\\\\tvx\\\\Downloads\\\\saep_bg10\\\\Yakima.shp'>"
       ]
      }
     ],
     "prompt_number": 3
    },
    {
     "cell_type": "markdown",
     "metadata": {},
     "source": [
      "Used canvas to get the code for geojson. I did it at home, but couldn't connect to the Sherman Lab so came to Lab to finish this."
     ]
    },
    {
     "cell_type": "code",
     "collapsed": false,
     "input": [
      "#import geojson to computer\n",
      "from subprocess import call\n",
      "import os\n",
      "\n",
      "os.environ[\"GDAL_DATA\"] = \"C:\\\\OSGeo4W\\\\share\\\\gdal\"\n",
      "os.environ[\"GDAL_DRIVER_PATH\"] = \"C:\\\\OSGeo4W\\\\bin\\\\gdalplugins\"\n",
      "os.environ[\"PROJ_LIB\"] = \"C:\\\\OSGeo4W\\\\share\\\\proj\"\n",
      "os.environ[\"PATH\"] = \"C:\\\\OSGeo4W\\\\bin;\"+os.environ[\"PATH\"]+\";C:\\\\OSGeo4W\\\\apps\\\\msys\\\\bin;C:\\\\OSGeo4W\\\\apps\\\\Python27\\\\Scripts\""
     ],
     "language": "python",
     "metadata": {},
     "outputs": [],
     "prompt_number": 22
    },
    {
     "cell_type": "code",
     "collapsed": false,
     "input": [
      "# The code look at the program.\n",
      "saep_bg10 = \"C:\\\\Users\\\\tvx\\\\Downloads\\\\saep_bg10\"\n",
      "\n",
      "#change path name to fit my computer\n",
      "for geojson in saep_bg10:\n",
      "    geo = \"C:\\\\Users\\\\tvx\\\\Downloads\\\\saep_bg10\" + geojson + \".geojson\" \n",
      "    # Add geojson to output file\n",
      "    json = \"C:\\\\Users\\\\tvx\\\\Downloads\\\\saep_bg10\" + geojson + \".shp\"    \n",
      "    # Add .shp to output file.\n",
      "    call(['C:\\\\OSGeo4W\\\\bin\\\\ogr2ogr',\n",
      "      '-f','GeoJSON','-t_srs','WGS84',                                                                                   \n",
      "      '-s_srs','EPSG:2927', geo, json])                  \n",
      "    "
     ],
     "language": "python",
     "metadata": {},
     "outputs": [],
     "prompt_number": 25
    },
    {
     "cell_type": "markdown",
     "metadata": {},
     "source": [
      "Print out a ranked list, in descending order, of the ten largest total populations in 2013 of counties in Washington, according to this dataset.\n",
      "\n",
      "Did forloop. Aren't you proud? I am. \n",
      "I ttill couldn't figure the top, but the end justify the mean.\n",
      "I created a frequency table. It's easier since it sum of population. Then sort the frequency table by population in descending order. \n",
      "I then print pop2013 with the constraint setting to only from rowid 1 thru 10. This was because we want the top 10 results which is the first top 10 since they are rank by descending order by most populated."
     ]
    },
    {
     "cell_type": "code",
     "collapsed": false,
     "input": [
      "#Create Frequency analysist to sum POP2013\n",
      "arcpy.env.workspace=\"C:\\\\Users\\\\tvx\\\\Downloads\\\\saep_bg10\"\n",
      "arcpy.Frequency_analysis(\"saep_bg10.shp\", \"C:\\\\Users\\\\tvx\\\\Downloads\\\\saep_bg10\\\\POPTABLE\", [\"CountyName\"], [\"POP2013\"])\n",
      "#Sort POP2013 in descending order\n",
      "arcpy.Sort_management(\"POPTABLE\", \"sort_pop3\", [[\"POP2013\", \"DESCENDING\"]])\n",
      "#write a constraint to print top 10\n",
      "with arcpy.da.SearchCursor(\"sort_pop3\", [\"POP2013\"],\"\"\" Rowid_1 < 11\"\"\") as cursor:\n",
      "    for row in cursor:\n",
      "        print row[0]"
     ],
     "language": "python",
     "metadata": {},
     "outputs": [
      {
       "output_type": "stream",
       "stream": "stdout",
       "text": [
        "1981900.0\n",
        "814500.0\n",
        "730500.0\n",
        "480000.0\n",
        "435500.0\n",
        "260100.0\n",
        "254000.0\n",
        "247250.0\n",
        "205800.0\n",
        "183400.0\n"
       ]
      }
     ],
     "prompt_number": 21
    },
    {
     "cell_type": "code",
     "collapsed": false,
     "input": [],
     "language": "python",
     "metadata": {},
     "outputs": []
    }
   ],
   "metadata": {}
  }
 ]
}